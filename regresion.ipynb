{
 "cells": [
  {
   "cell_type": "code",
   "execution_count": 26,
   "metadata": {},
   "outputs": [
    {
     "data": {
      "image/png": "[encoded data removed]",
      "text/plain": [
       "<Figure size 432x288 with 1 Axes>"
      ]
     },
     "metadata": {
      "needs_background": "light"
     },
     "output_type": "display_data"
    }
   ],
   "source": [
    "import pandas as pd\n",
    "\n",
    "import matplotlib.pyplot as plt\n",
    "\n",
    "dataf = pd.read_csv(\"C:\\Temporal\\FuelConsumptionCo2.csv\")\n",
    "\n",
    "\n",
    "dataf.head()\n",
    "\n",
    "#show diferent values lime average, max, min for each column\n",
    "#dataf.describe()\n",
    "\n",
    "#show histogram for each column in CDF\n",
    "cdf = dataf[['ENGINESIZE','CYLINDERS','FUELCONSUMPTION_COMB','CO2EMISSIONS']]\n",
    "#cdf.head(9)\n",
    "#cdf.hist()\n",
    "#plt.show()\n",
    "\n",
    "#relationship between fuelconsumption and co2emissions\n",
    "#plt.scatter(cdf.FUELCONSUMPTION_COMB, cdf.CO2EMISSIONS,  color='blue')\n",
    "#plt.xlabel(\"FUELCONSUMPTION_COMB\")\n",
    "#plt.ylabel(\"Emission\")\n",
    "#plt.show()\n",
    "\n",
    "#relationship between ENGINESIZE and CO2EMISSIONS\n",
    "#plt.scatter(cdf.ENGINESIZE, cdf.CO2EMISSIONS,  color='blue')\n",
    "#plt.xlabel(\"Engine size\")\n",
    "#plt.ylabel(\"Emission\")\n",
    "#plt.show()\n",
    "\n",
    "#relationship between CYLINDER and CO2EMISSIONS\n",
    "plt.scatter(cdf.CYLINDERS, cdf.CO2EMISSIONS,  color='blue')\n",
    "plt.xlabel(\"Cylinders\")\n",
    "plt.ylabel(\"Emission\")\n",
    "plt.show()\n",
    "\n",
    "\n",
    "\n"
   ]
  },
  {
   "cell_type": "code",
   "execution_count": null,
   "metadata": {},
   "outputs": [],
   "source": []
  },
  {
   "cell_type": "code",
   "execution_count": null,
   "metadata": {},
   "outputs": [],
   "source": []
  }
 ],
 "metadata": {
  "kernelspec": {
   "display_name": "Python 3",
   "language": "python",
   "name": "python3"
  },
  "language_info": {
   "codemirror_mode": {
    "name": "ipython",
    "version": 3
   },
   "file_extension": ".py",
   "mimetype": "text/x-python",
   "name": "python",
   "nbconvert_exporter": "python",
   "pygments_lexer": "ipython3",
   "version": "3.7.4"
  }
 },
 "nbformat": 4,
 "nbformat_minor": 2
}
